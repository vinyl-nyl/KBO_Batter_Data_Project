{
  "nbformat": 4,
  "nbformat_minor": 0,
  "metadata": {
    "colab": {
      "provenance": []
    },
    "kernelspec": {
      "name": "python3",
      "display_name": "Python 3"
    },
    "language_info": {
      "name": "python"
    }
  },
  "cells": [
    {
      "cell_type": "markdown",
      "source": [
        "1. 폰트 설정"
      ],
      "metadata": {
        "id": "WL-H-J-UtkFl"
      }
    },
    {
      "cell_type": "code",
      "source": [
        "# 나눔 폰트 설치 및 matplotlib 캐시 초기화\n",
        "!apt-get update -qq\n",
        "!apt-get install -qq -y fonts-nanum\n",
        "!rm -rf ~/.cache/matplotlib\n",
        "\n",
        "import matplotlib.pyplot as plt\n",
        "import matplotlib as mpl\n",
        "import matplotlib.font_manager as fm\n",
        "import pandas as pd\n",
        "from sklearn.model_selection import train_test_split\n",
        "from sklearn.linear_model import LinearRegression\n",
        "from sklearn.preprocessing import StandardScaler\n",
        "from sklearn.metrics import mean_squared_error, mean_absolute_error, r2_score\n",
        "\n",
        "# 나눔고딕 폰트 설정\n",
        "font_path = '/usr/share/fonts/truetype/nanum/NanumGothic.ttf'\n",
        "font_prop = fm.FontProperties(fname=font_path)\n",
        "mpl.rcParams['font.family'] = font_prop.get_name()\n",
        "mpl.rcParams['axes.unicode_minus'] = False  # 마이너스 표시 문제 해결"
      ],
      "metadata": {
        "colab": {
          "base_uri": "https://localhost:8080/"
        },
        "id": "1zHWPiMmrzoa",
        "outputId": "bcdd175c-e0cb-4135-b2ec-1326e6f87aca"
      },
      "execution_count": 1,
      "outputs": [
        {
          "output_type": "stream",
          "name": "stdout",
          "text": [
            "W: Skipping acquire of configured file 'main/source/Sources' as repository 'https://r2u.stat.illinois.edu/ubuntu jammy InRelease' does not seem to provide it (sources.list entry misspelt?)\n",
            "Selecting previously unselected package fonts-nanum.\n",
            "(Reading database ... 123630 files and directories currently installed.)\n",
            "Preparing to unpack .../fonts-nanum_20200506-1_all.deb ...\n",
            "Unpacking fonts-nanum (20200506-1) ...\n",
            "Setting up fonts-nanum (20200506-1) ...\n",
            "Processing triggers for fontconfig (2.13.1-4.2ubuntu5) ...\n"
          ]
        }
      ]
    },
    {
      "cell_type": "markdown",
      "source": [
        "2. 데이터 준비"
      ],
      "metadata": {
        "id": "JBCfCyXttwV5"
      }
    },
    {
      "cell_type": "code",
      "source": [
        "# 데이터 로드\n",
        "kbo_hitter_data = pd.read_csv(\"/content/kbo_Hitter_data.csv\")\n",
        "\n",
        "# 연도별 팀 데이터 집계\n",
        "team_yearly_data = kbo_hitter_data.groupby(['Year', 'Team']).sum()[['PA', 'H', 'HR', 'RBI']].reset_index()\n",
        "team_yearly_data['AVG'] = team_yearly_data['H'] / team_yearly_data['PA']  # 팀 평균 타율 계산\n",
        "\n",
        "# 2025년 예측을 위해 데이터 준비\n",
        "past_data = team_yearly_data[team_yearly_data['Year'] < 2025]\n",
        "X = past_data[['PA', 'H', 'HR', 'RBI']]\n",
        "y = past_data['AVG']\n",
        "\n",
        "# 데이터 정규화\n",
        "scaler = StandardScaler()\n",
        "X_scaled = scaler.fit_transform(X)"
      ],
      "metadata": {
        "id": "QJKTxNXuRMox"
      },
      "execution_count": 4,
      "outputs": []
    },
    {
      "cell_type": "markdown",
      "source": [
        "3. 학습 데이터 설정 및 학습"
      ],
      "metadata": {
        "id": "Ft6eZHv8v0ex"
      }
    },
    {
      "cell_type": "code",
      "source": [
        "# 학습 및 테스트 데이터 분할\n",
        "X_train, X_test, y_train, y_test = train_test_split(X_scaled, y, test_size=0.2, random_state=50)\n",
        "\n",
        "# 선형 회귀 모델 학습\n",
        "model = LinearRegression()\n",
        "model.fit(X_train, y_train)\n",
        "\n",
        "# 모델 평가\n",
        "y_train_pred = model.predict(X_train)\n",
        "y_test_pred = model.predict(X_test)\n",
        "\n",
        "train_mse = mean_squared_error(y_train, y_train_pred)\n",
        "test_mse = mean_squared_error(y_test, y_test_pred)\n",
        "train_mae = mean_absolute_error(y_train, y_train_pred)\n",
        "test_mae = mean_absolute_error(y_test, y_test_pred)\n",
        "train_r2 = r2_score(y_train, y_train_pred)\n",
        "test_r2 = r2_score(y_test, y_test_pred)\n",
        "\n",
        "# 정확도 계산(임계값 이내)\n",
        "accuracy_threshold = 0.01  # 정확도 예측을 위한 임계값\n",
        "train_accuracy = sum(abs(y_train_pred - y_train) <= accuracy_threshold) / len(y_train)\n",
        "test_accuracy = sum(abs(y_test_pred - y_test) <= accuracy_threshold) / len(y_test)\n",
        "\n",
        "# 학습 정확도 출력\n",
        "print(f\"Training Loss (MAE): {train_mae:.4f}, R²: {train_r2:.4f}, Accuracy: {train_accuracy:.4%}\")\n",
        "print(f\"Testing Loss (MAE): {test_mae:.4f}, R²: {test_r2:.4f}, Accuracy: {test_accuracy:.4%}\")"
      ],
      "metadata": {
        "colab": {
          "base_uri": "https://localhost:8080/"
        },
        "id": "40TMU_lZuN-q",
        "outputId": "227019d6-291a-4b61-9591-a764b417cb1f"
      },
      "execution_count": 5,
      "outputs": [
        {
          "output_type": "stream",
          "name": "stdout",
          "text": [
            "Training Loss (MAE): 0.0045, R²: 0.8324, Accuracy: 90.5405%\n",
            "Testing Loss (MAE): 0.0038, R²: 0.8465, Accuracy: 89.4737%\n"
          ]
        }
      ]
    },
    {
      "cell_type": "markdown",
      "source": [
        "4. 2025년 팀 평균 타율 예측"
      ],
      "metadata": {
        "id": "zV2D2j51xCfm"
      }
    },
    {
      "cell_type": "code",
      "source": [
        "# 2025년 팀 평균 타율 예측 (최근 5년 데이터로)\n",
        "recent_data = team_yearly_data[team_yearly_data['Year'] >= 2020][['PA', 'H', 'HR', 'RBI']]  # 최근 5년\n",
        "recent_data_scaled = scaler.transform(recent_data)\n",
        "predicted_avg_2025 = model.predict(recent_data_scaled)\n",
        "\n",
        "# 2025년 예측 결과 추가\n",
        "future_2025 = team_yearly_data[team_yearly_data['Year'] == 2024].copy()\n",
        "future_2025['Year'] = 2025\n",
        "future_2025['Predicted_AVG'] = predicted_avg_2025[-len(future_2025):]\n",
        "\n",
        "# 결과 병합\n",
        "final_results = pd.concat([team_yearly_data, future_2025])"
      ],
      "metadata": {
        "id": "XVELzNA0vKnW"
      },
      "execution_count": 7,
      "outputs": []
    },
    {
      "cell_type": "markdown",
      "source": [
        "5. 예측한 팀 평균 타율 시각화"
      ],
      "metadata": {
        "id": "RUFkdxW8xNGH"
      }
    },
    {
      "cell_type": "code",
      "source": [
        "# 2025년 예측 시각화\n",
        "future_2025_sorted = future_2025.sort_values(by='Predicted_AVG', ascending=False)\n",
        "plt.figure(figsize=(10, 5))\n",
        "team_names = future_2025_sorted['Team']\n",
        "predicted_avgs = future_2025_sorted['Predicted_AVG']\n",
        "\n",
        "bars = plt.bar(team_names, predicted_avgs, color='orange', label='2025 예측 타율')\n",
        "\n",
        "# 각 바 위에 타율 표시 (소수점 3자리까지)\n",
        "for bar, avg in zip(bars, predicted_avgs):\n",
        "    plt.text(bar.get_x() + bar.get_width() / 2, bar.get_height(),\n",
        "             f'{avg:.3f}', ha='center', va='bottom', fontsize=10, fontproperties=font_prop)\n",
        "\n",
        "plt.title('2025년 팀별 평균 타율 예측', fontsize=16, fontproperties=font_prop)\n",
        "plt.xlabel('팀명', fontsize=14, fontproperties=font_prop)\n",
        "plt.ylabel('타율', fontsize=14, fontproperties=font_prop)\n",
        "plt.xticks(fontsize=12, fontproperties=font_prop, rotation=45)\n",
        "plt.legend(fontsize=12, prop=font_prop)\n",
        "plt.grid(alpha=0.5)\n",
        "plt.tight_layout()\n",
        "plt.show()"
      ],
      "metadata": {
        "colab": {
          "base_uri": "https://localhost:8080/",
          "height": 863
        },
        "id": "BYPXcdnGuZTW",
        "outputId": "4cd118ea-5ec9-49c6-9225-b94e6e4595db"
      },
      "execution_count": 9,
      "outputs": [
        {
          "output_type": "stream",
          "name": "stderr",
          "text": [
            "WARNING:matplotlib.font_manager:findfont: Font family 'NanumGothic' not found.\n",
            "WARNING:matplotlib.font_manager:findfont: Font family 'NanumGothic' not found.\n",
            "WARNING:matplotlib.font_manager:findfont: Font family 'NanumGothic' not found.\n",
            "WARNING:matplotlib.font_manager:findfont: Font family 'NanumGothic' not found.\n",
            "WARNING:matplotlib.font_manager:findfont: Font family 'NanumGothic' not found.\n",
            "WARNING:matplotlib.font_manager:findfont: Font family 'NanumGothic' not found.\n",
            "WARNING:matplotlib.font_manager:findfont: Font family 'NanumGothic' not found.\n",
            "WARNING:matplotlib.font_manager:findfont: Font family 'NanumGothic' not found.\n",
            "WARNING:matplotlib.font_manager:findfont: Font family 'NanumGothic' not found.\n",
            "WARNING:matplotlib.font_manager:findfont: Font family 'NanumGothic' not found.\n",
            "WARNING:matplotlib.font_manager:findfont: Font family 'NanumGothic' not found.\n",
            "WARNING:matplotlib.font_manager:findfont: Font family 'NanumGothic' not found.\n",
            "WARNING:matplotlib.font_manager:findfont: Font family 'NanumGothic' not found.\n",
            "WARNING:matplotlib.font_manager:findfont: Font family 'NanumGothic' not found.\n",
            "WARNING:matplotlib.font_manager:findfont: Font family 'NanumGothic' not found.\n",
            "WARNING:matplotlib.font_manager:findfont: Font family 'NanumGothic' not found.\n",
            "WARNING:matplotlib.font_manager:findfont: Font family 'NanumGothic' not found.\n",
            "WARNING:matplotlib.font_manager:findfont: Font family 'NanumGothic' not found.\n",
            "WARNING:matplotlib.font_manager:findfont: Font family 'NanumGothic' not found.\n",
            "WARNING:matplotlib.font_manager:findfont: Font family 'NanumGothic' not found.\n"
          ]
        },
        {
          "output_type": "display_data",
          "data": {
            "text/plain": [
              "<Figure size 1000x500 with 1 Axes>"
            ],
            "image/png": "[encoded data removed]"
          },
          "metadata": {}
        }
      ]
    },
    {
      "cell_type": "markdown",
      "source": [
        "6. 2004년부터 2024년까지 20년치의 팀 타율 / 2025년 예측 팀 타율 결과 파일 저장"
      ],
      "metadata": {
        "id": "dT9_m0o3xSiv"
      }
    },
    {
      "cell_type": "code",
      "source": [
        "# 결과를 CSV로 저장\n",
        "output_file = \"team_batting_predictions_2025_sorted.csv\"\n",
        "final_results.to_csv(output_file, index=False)\n",
        "print(f\"Predictions saved to {output_file}\")"
      ],
      "metadata": {
        "colab": {
          "base_uri": "https://localhost:8080/"
        },
        "id": "TbQ1ioJOuOTW",
        "outputId": "fa873164-e808-4457-f905-61d7ecb45c72"
      },
      "execution_count": null,
      "outputs": [
        {
          "output_type": "stream",
          "name": "stdout",
          "text": [
            "Predictions saved to team_batting_predictions_2025_sorted.csv\n"
          ]
        }
      ]
    }
  ]
}